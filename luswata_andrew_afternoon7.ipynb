{
 "cells": [
  {
   "cell_type": "code",
   "execution_count": 1,
   "id": "52d8f773",
   "metadata": {
    "scrolled": true
   },
   "outputs": [
    {
     "name": "stdout",
     "output_type": "stream",
     "text": [
      "Empty DataFrame\n",
      "Columns: []\n",
      "Index: []\n"
     ]
    }
   ],
   "source": [
    "import pandas as pd\n",
    "df = pd.DataFrame()\n",
    "print(df)"
   ]
  },
  {
   "cell_type": "code",
   "execution_count": 6,
   "id": "3280c38f",
   "metadata": {},
   "outputs": [
    {
     "name": "stdout",
     "output_type": "stream",
     "text": [
      "     cars       models   price\n",
      "0     bmw          IX7  100000\n",
      "1    audi          RS7   65000\n",
      "2    ford       Rivian   75000\n",
      "3  Bently  Continental  200000\n"
     ]
    }
   ],
   "source": [
    "mydataset ={\n",
    "    'cars':(\"bmw\",\"audi\",\"ford\",\"Bently\"),\n",
    "    'models':(\"IX7\",\"RS7\",\"Rivian\",\"Continental\"),\n",
    "    'price':(100000,65000,75000,200000)\n",
    "}\n",
    "var = pd.DataFrame(mydataset)\n",
    "print(var)"
   ]
  },
  {
   "cell_type": "code",
   "execution_count": 7,
   "id": "39dad637",
   "metadata": {},
   "outputs": [
    {
     "name": "stdout",
     "output_type": "stream",
     "text": [
      "Index(['cars', 'models', 'price'], dtype='object')\n"
     ]
    }
   ],
   "source": [
    "print(var.columns)"
   ]
  },
  {
   "cell_type": "code",
   "execution_count": 8,
   "id": "c3a46ee8",
   "metadata": {},
   "outputs": [
    {
     "name": "stdout",
     "output_type": "stream",
     "text": [
      "RangeIndex(start=0, stop=4, step=1)\n"
     ]
    }
   ],
   "source": [
    "print(var.index)"
   ]
  },
  {
   "cell_type": "code",
   "execution_count": 13,
   "id": "67be6b84",
   "metadata": {
    "scrolled": true
   },
   "outputs": [
    {
     "name": "stdout",
     "output_type": "stream",
     "text": [
      "Sunday       2/06/2023\n",
      "Monday       3/06/2023\n",
      "Tuesday      4/06/2023\n",
      "Wednesday    5/06/2023\n",
      "Thursday     6/06/2023\n",
      "Friday       7/06/2023\n",
      "Saturday     8/06/2023\n",
      "dtype: object\n"
     ]
    }
   ],
   "source": [
    "# Create a simple pandas series from a dictionary: For fays and Dates\n",
    "my_dictionary={\n",
    "    'Sunday':\"2/06/2023\",\n",
    "    'Monday':\"3/06/2023\",\n",
    "    'Tuesday':\"4/06/2023\",\n",
    "    'Wednesday':\"5/06/2023\",\n",
    "    'Thursday':\"6/06/2023\",\n",
    "    'Friday':\"7/06/2023\",\n",
    "    'Saturday':\"8/06/2023\",\n",
    "}\n",
    "my_series = pd.Series(my_dictionary)\n",
    "print(my_series)"
   ]
  },
  {
   "cell_type": "code",
   "execution_count": 14,
   "id": "555caf92",
   "metadata": {},
   "outputs": [
    {
     "data": {
      "text/plain": [
       "Sunday       2/06/2023\n",
       "Monday       3/06/2023\n",
       "Tuesday      4/06/2023\n",
       "Wednesday    5/06/2023\n",
       "Thursday     6/06/2023\n",
       "dtype: object"
      ]
     },
     "execution_count": 14,
     "metadata": {},
     "output_type": "execute_result"
    }
   ],
   "source": [
    "my_series.head()"
   ]
  },
  {
   "cell_type": "code",
   "execution_count": 19,
   "id": "ea2f2567",
   "metadata": {},
   "outputs": [
    {
     "name": "stdout",
     "output_type": "stream",
     "text": [
      "Monday     3/06/2023\n",
      "Tuesday    4/06/2023\n",
      "dtype: object\n"
     ]
    }
   ],
   "source": [
    "# Series for only Monday and Tuesday.\n",
    "selected_dates = my_series.loc[[\"Monday\",\"Tuesday\"]]\n",
    "\n",
    "print(selected_dates)"
   ]
  },
  {
   "cell_type": "code",
   "execution_count": null,
   "id": "b8ae45ad",
   "metadata": {},
   "outputs": [],
   "source": []
  }
 ],
 "metadata": {
  "kernelspec": {
   "display_name": "Python 3 (ipykernel)",
   "language": "python",
   "name": "python3"
  },
  "language_info": {
   "codemirror_mode": {
    "name": "ipython",
    "version": 3
   },
   "file_extension": ".py",
   "mimetype": "text/x-python",
   "name": "python",
   "nbconvert_exporter": "python",
   "pygments_lexer": "ipython3",
   "version": "3.10.9"
  }
 },
 "nbformat": 4,
 "nbformat_minor": 5
}
